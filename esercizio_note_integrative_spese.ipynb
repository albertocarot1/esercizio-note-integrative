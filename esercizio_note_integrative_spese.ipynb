{
 "cells": [
  {
   "cell_type": "markdown",
   "metadata": {},
   "source": [
    "In questo esercizio ti chiediamo di indagare, per un perimetro di aziende, una porzione della loro [nota integrativa](https://it.wikipedia.org/wiki/Nota_integrativa) per analizzare le loro categorie di spesa e cercarvi poi in particolare indicazioni sulle loro spese energetiche valutando l'impatto di tale voce sul totale dei loro costi per servizi tenendo anche in considerazione il settore di attività dell'azienda (determinato dal [codice ATECO](https://it.wikipedia.org/wiki/ATECO))."
   ]
  },
  {
   "cell_type": "markdown",
   "metadata": {},
   "source": [
    "### Contesto"
   ]
  },
  {
   "cell_type": "markdown",
   "metadata": {},
   "source": [
    "Nel bilancio di esercizio le aziende riportano il totale dei loro costi di produzione e il dettaglio per alcune sottovoci.\n",
    "Ecco un esempio:"
   ]
  },
  {
   "cell_type": "markdown",
   "metadata": {},
   "source": [
    "![](imgs/conto_economico_bb9b38b12839.png)"
   ]
  },
  {
   "cell_type": "markdown",
   "metadata": {},
   "source": [
    "A commento del bilancio, in una specifica sezione delle note integrative, le aziende illustrano in dettaglio tali voci fornendo spesso tabelle che offrono una granularità maggiore.\n",
    "Ecco le note corrispondenti all'esempio precedente:"
   ]
  },
  {
   "cell_type": "markdown",
   "metadata": {},
   "source": [
    "![](imgs/nota_integrativa_bb9b38b12839.png)"
   ]
  },
  {
   "cell_type": "markdown",
   "metadata": {},
   "source": [
    "Tale sezione contiene testo in formato HTML.\n",
    "\n",
    "Le tabelle che vi si possono estrarre riportano spesso, oltre al valore dell'ultimo anno, anche i valori di spesa del precedente esercizio (cui non siamo interessati in questo frangente)."
   ]
  },
  {
   "cell_type": "markdown",
   "metadata": {},
   "source": [
    "### Input"
   ]
  },
  {
   "cell_type": "markdown",
   "metadata": {},
   "source": [
    "Viene fornito in input un file che contiene le seguenti colonne:\n",
    "   - `Atoka ID`: un identificativo dell'azienda\n",
    "   - `Codice ATECO 2007`: il codice ATECO dell'azienda\n",
    "   - `Descrizione ATECO 2007`: una label relativa al codice ATECO dell'azienda\n",
    "   - `HTML`: la sezione della nota integrativa da analizzare relativa ai costi di produzione\n",
    "   - `costi_produzione`: il valore totale dei costi di produzione \n",
    "   - `costi_servizi`: il valore della sotto-voce dei costi di produzione relativa all'acquisto di servizi dove vengono contabilizzati i costi per spese energetiche"
   ]
  },
  {
   "cell_type": "code",
   "execution_count": 264,
   "metadata": {},
   "outputs": [],
   "source": [
    "import pandas as pd"
   ]
  },
  {
   "cell_type": "code",
   "execution_count": 266,
   "metadata": {},
   "outputs": [],
   "source": [
    "input_df = pd.read_csv('analisi_spesa_da_note_integrative_20210319.zip')"
   ]
  },
  {
   "cell_type": "code",
   "execution_count": 267,
   "metadata": {},
   "outputs": [
    {
     "data": {
      "text/html": [
       "<div>\n",
       "<style scoped>\n",
       "    .dataframe tbody tr th:only-of-type {\n",
       "        vertical-align: middle;\n",
       "    }\n",
       "\n",
       "    .dataframe tbody tr th {\n",
       "        vertical-align: top;\n",
       "    }\n",
       "\n",
       "    .dataframe thead th {\n",
       "        text-align: right;\n",
       "    }\n",
       "</style>\n",
       "<table border=\"1\" class=\"dataframe\">\n",
       "  <thead>\n",
       "    <tr style=\"text-align: right;\">\n",
       "      <th></th>\n",
       "      <th>Atoka ID</th>\n",
       "      <th>Codice ATECO 2007</th>\n",
       "      <th>Descrizione ATECO 2007</th>\n",
       "      <th>HTML</th>\n",
       "      <th>costi_produzione</th>\n",
       "      <th>costi_servizi</th>\n",
       "    </tr>\n",
       "  </thead>\n",
       "  <tbody>\n",
       "    <tr>\n",
       "      <th>0</th>\n",
       "      <td>fe0f2a2426c7</td>\n",
       "      <td>68.20.02</td>\n",
       "      <td>Affitto di aziende</td>\n",
       "      <td>\\n  &lt;p style=\"text-align: justify;\"&gt;&lt;span styl...</td>\n",
       "      <td>4398880.0</td>\n",
       "      <td>1332892.0</td>\n",
       "    </tr>\n",
       "    <tr>\n",
       "      <th>1</th>\n",
       "      <td>f9ed72d78870</td>\n",
       "      <td>01.2</td>\n",
       "      <td>COLTIVAZIONE DI COLTURE PERMANENTI</td>\n",
       "      <td>&lt;p style=\"text-align: justify;\"&gt;&lt;span style=\"f...</td>\n",
       "      <td>334301.0</td>\n",
       "      <td>56842.0</td>\n",
       "    </tr>\n",
       "    <tr>\n",
       "      <th>2</th>\n",
       "      <td>f8cd0f483c5a</td>\n",
       "      <td>30.11.02</td>\n",
       "      <td>Cantieri navali per costruzioni metalliche e n...</td>\n",
       "      <td>&lt;span style='font:7.0pt \"Times New Roman\"'&gt;&lt;/s...</td>\n",
       "      <td>8122105.0</td>\n",
       "      <td>3519079.0</td>\n",
       "    </tr>\n",
       "    <tr>\n",
       "      <th>3</th>\n",
       "      <td>d3ea46a2e05e</td>\n",
       "      <td>23.51.00</td>\n",
       "      <td>Produzione di cemento</td>\n",
       "      <td>&lt;div style=\"margin:10px; padding:0px;\"&gt;\\n\\t&lt;p ...</td>\n",
       "      <td>99161175.0</td>\n",
       "      <td>37313502.0</td>\n",
       "    </tr>\n",
       "    <tr>\n",
       "      <th>4</th>\n",
       "      <td>ca44e0154273</td>\n",
       "      <td>62.01.00</td>\n",
       "      <td>Produzione di software non connesso all'edizione</td>\n",
       "      <td>&lt;span style=\"font-family:'Arial';font-size:12p...</td>\n",
       "      <td>2596157.0</td>\n",
       "      <td>378691.0</td>\n",
       "    </tr>\n",
       "  </tbody>\n",
       "</table>\n",
       "</div>"
      ],
      "text/plain": [
       "       Atoka ID Codice ATECO 2007  \\\n",
       "0  fe0f2a2426c7          68.20.02   \n",
       "1  f9ed72d78870              01.2   \n",
       "2  f8cd0f483c5a          30.11.02   \n",
       "3  d3ea46a2e05e          23.51.00   \n",
       "4  ca44e0154273          62.01.00   \n",
       "\n",
       "                              Descrizione ATECO 2007  \\\n",
       "0                                 Affitto di aziende   \n",
       "1                 COLTIVAZIONE DI COLTURE PERMANENTI   \n",
       "2  Cantieri navali per costruzioni metalliche e n...   \n",
       "3                              Produzione di cemento   \n",
       "4   Produzione di software non connesso all'edizione   \n",
       "\n",
       "                                                HTML  costi_produzione  \\\n",
       "0  \\n  <p style=\"text-align: justify;\"><span styl...         4398880.0   \n",
       "1  <p style=\"text-align: justify;\"><span style=\"f...          334301.0   \n",
       "2  <span style='font:7.0pt \"Times New Roman\"'></s...         8122105.0   \n",
       "3  <div style=\"margin:10px; padding:0px;\">\\n\\t<p ...        99161175.0   \n",
       "4  <span style=\"font-family:'Arial';font-size:12p...         2596157.0   \n",
       "\n",
       "   costi_servizi  \n",
       "0      1332892.0  \n",
       "1        56842.0  \n",
       "2      3519079.0  \n",
       "3     37313502.0  \n",
       "4       378691.0  "
      ]
     },
     "execution_count": 267,
     "metadata": {},
     "output_type": "execute_result"
    }
   ],
   "source": [
    "input_df.head()"
   ]
  },
  {
   "cell_type": "markdown",
   "metadata": {},
   "source": [
    "### Task"
   ]
  },
  {
   "cell_type": "markdown",
   "metadata": {
    "tags": []
   },
   "source": [
    "Ti chiediamo di:\n",
    "\n",
    "1. **estrarre le tabelle** dalla sezione della nota integrativa (suggerimento: usare la funzione `read_html` di pandas)\n",
    "\n",
    "\n",
    "2. provare a **classificare/raggruppare le voci di spesa** (spesso le aziende usano espressioni simili ma non identiche per riferirsi allo stesso tipo di spesa: ad esempio un'azienda potrebbe usare la dizione \"energia\" e un'altra \"energia elettrica\" etc.)\n",
    "\n",
    "\n",
    "3. concentrarti poi sulle **spese in energia** per calcolarne il valore per ciascuna azienda\n",
    "\n",
    "\n",
    "4. analizzare la **distribuzione di tali spese** e l'impatto su costi per i servizi e costi di produzione tenendo in considerazione il settore ATECO in cui opera l'azienda."
   ]
  },
  {
   "cell_type": "markdown",
   "metadata": {},
   "source": [
    "### Nota metodologica"
   ]
  },
  {
   "cell_type": "markdown",
   "metadata": {},
   "source": [
    "1. **Linguaggio**: il nostro linguaggio di elezione è Python e ci piace molto condurre analisi e documentare su Jupyter notebooks però non mettiamo alcun vincolo sul linguaggio e gli strumenti da utilizzare per la soluzione del problema\n",
    "\n",
    "\n",
    "2. **Livello di approfondimento**: la pulizia delle tabelle e il lavoro sulle categorie di spesa è in linea di principio senza fine. Non ti chiediamo un output né perfetto, né completo, ma il minimo di sviluppo per farci capire il tuo approccio. Può andar bene anche semplicemente scrivere o dirci a voce quali sono i limiti dell'approccio adottato e come si potrebbero affrontare avendo più tempo. Non serve assolutamente ingegnerizzare la soluzione.\n",
    "\n",
    "\n",
    "3. **Copertura**: non tutte le aziende riportano il dettaglio delle spese energetiche e magari molte lo fanno usando espressioni poco convenzionali. Qui come altrove non chiediamo di riuscire a predicare qualcosa su tutte le aziende. Ci interessa più il metodo che la copertura.\n",
    "\n",
    "\n",
    "4. **Richieste di spiegazioni**: scrivici per qualunque dubbio su dati, richieste etc.\n",
    "\n",
    "\n",
    "5. **Effort**: non ti chiediamo di investirci delle giornate. Se alcuni passaggi richiedono troppo tempo limitati a descriverci come li effettueresti."
   ]
  }
 ],
 "metadata": {
  "kernelspec": {
   "display_name": "Python 3 (ipykernel)",
   "language": "python",
   "name": "python3"
  },
  "language_info": {
   "codemirror_mode": {
    "name": "ipython",
    "version": 3
   },
   "file_extension": ".py",
   "mimetype": "text/x-python",
   "name": "python",
   "nbconvert_exporter": "python",
   "pygments_lexer": "ipython3",
   "version": "3.9.14"
  }
 },
 "nbformat": 4,
 "nbformat_minor": 4
}
