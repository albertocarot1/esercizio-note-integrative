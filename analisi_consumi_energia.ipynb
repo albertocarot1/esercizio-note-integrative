{
 "cells": [
  {
   "cell_type": "code",
   "execution_count": 1,
   "id": "402af28e-2abe-4849-913c-078c4e5570b2",
   "metadata": {
    "tags": []
   },
   "outputs": [],
   "source": [
    "import pandas as pd\n",
    "from utils import clean_table, extract_expense_items"
   ]
  },
  {
   "cell_type": "code",
   "execution_count": 2,
   "id": "83e6d08d-24ef-41df-b06a-41368ad945fa",
   "metadata": {},
   "outputs": [],
   "source": [
    "input_df = pd.read_csv('analisi_spesa_da_note_integrative_20210319.zip')"
   ]
  },
  {
   "cell_type": "code",
   "execution_count": 3,
   "id": "85c2d20b-2990-4ac7-8ab2-44d1b28c211c",
   "metadata": {},
   "outputs": [
    {
     "data": {
      "text/html": [
       "<div>\n",
       "<style scoped>\n",
       "    .dataframe tbody tr th:only-of-type {\n",
       "        vertical-align: middle;\n",
       "    }\n",
       "\n",
       "    .dataframe tbody tr th {\n",
       "        vertical-align: top;\n",
       "    }\n",
       "\n",
       "    .dataframe thead th {\n",
       "        text-align: right;\n",
       "    }\n",
       "</style>\n",
       "<table border=\"1\" class=\"dataframe\">\n",
       "  <thead>\n",
       "    <tr style=\"text-align: right;\">\n",
       "      <th></th>\n",
       "      <th>Atoka ID</th>\n",
       "      <th>Codice ATECO 2007</th>\n",
       "      <th>Descrizione ATECO 2007</th>\n",
       "      <th>HTML</th>\n",
       "      <th>costi_produzione</th>\n",
       "      <th>costi_servizi</th>\n",
       "    </tr>\n",
       "  </thead>\n",
       "  <tbody>\n",
       "    <tr>\n",
       "      <th>0</th>\n",
       "      <td>fe0f2a2426c7</td>\n",
       "      <td>68.20.02</td>\n",
       "      <td>Affitto di aziende</td>\n",
       "      <td>\\n  &lt;p style=\"text-align: justify;\"&gt;&lt;span styl...</td>\n",
       "      <td>4398880.0</td>\n",
       "      <td>1332892.0</td>\n",
       "    </tr>\n",
       "    <tr>\n",
       "      <th>1</th>\n",
       "      <td>f9ed72d78870</td>\n",
       "      <td>01.2</td>\n",
       "      <td>COLTIVAZIONE DI COLTURE PERMANENTI</td>\n",
       "      <td>&lt;p style=\"text-align: justify;\"&gt;&lt;span style=\"f...</td>\n",
       "      <td>334301.0</td>\n",
       "      <td>56842.0</td>\n",
       "    </tr>\n",
       "    <tr>\n",
       "      <th>2</th>\n",
       "      <td>f8cd0f483c5a</td>\n",
       "      <td>30.11.02</td>\n",
       "      <td>Cantieri navali per costruzioni metalliche e n...</td>\n",
       "      <td>&lt;span style='font:7.0pt \"Times New Roman\"'&gt;&lt;/s...</td>\n",
       "      <td>8122105.0</td>\n",
       "      <td>3519079.0</td>\n",
       "    </tr>\n",
       "    <tr>\n",
       "      <th>3</th>\n",
       "      <td>d3ea46a2e05e</td>\n",
       "      <td>23.51.00</td>\n",
       "      <td>Produzione di cemento</td>\n",
       "      <td>&lt;div style=\"margin:10px; padding:0px;\"&gt;\\n\\t&lt;p ...</td>\n",
       "      <td>99161175.0</td>\n",
       "      <td>37313502.0</td>\n",
       "    </tr>\n",
       "    <tr>\n",
       "      <th>4</th>\n",
       "      <td>ca44e0154273</td>\n",
       "      <td>62.01.00</td>\n",
       "      <td>Produzione di software non connesso all'edizione</td>\n",
       "      <td>&lt;span style=\"font-family:'Arial';font-size:12p...</td>\n",
       "      <td>2596157.0</td>\n",
       "      <td>378691.0</td>\n",
       "    </tr>\n",
       "  </tbody>\n",
       "</table>\n",
       "</div>"
      ],
      "text/plain": [
       "       Atoka ID Codice ATECO 2007  \\\n",
       "0  fe0f2a2426c7          68.20.02   \n",
       "1  f9ed72d78870              01.2   \n",
       "2  f8cd0f483c5a          30.11.02   \n",
       "3  d3ea46a2e05e          23.51.00   \n",
       "4  ca44e0154273          62.01.00   \n",
       "\n",
       "                              Descrizione ATECO 2007  \\\n",
       "0                                 Affitto di aziende   \n",
       "1                 COLTIVAZIONE DI COLTURE PERMANENTI   \n",
       "2  Cantieri navali per costruzioni metalliche e n...   \n",
       "3                              Produzione di cemento   \n",
       "4   Produzione di software non connesso all'edizione   \n",
       "\n",
       "                                                HTML  costi_produzione  \\\n",
       "0  \\n  <p style=\"text-align: justify;\"><span styl...         4398880.0   \n",
       "1  <p style=\"text-align: justify;\"><span style=\"f...          334301.0   \n",
       "2  <span style='font:7.0pt \"Times New Roman\"'></s...         8122105.0   \n",
       "3  <div style=\"margin:10px; padding:0px;\">\\n\\t<p ...        99161175.0   \n",
       "4  <span style=\"font-family:'Arial';font-size:12p...         2596157.0   \n",
       "\n",
       "   costi_servizi  \n",
       "0      1332892.0  \n",
       "1        56842.0  \n",
       "2      3519079.0  \n",
       "3     37313502.0  \n",
       "4       378691.0  "
      ]
     },
     "execution_count": 3,
     "metadata": {},
     "output_type": "execute_result"
    }
   ],
   "source": [
    "input_df.head()"
   ]
  },
  {
   "cell_type": "code",
   "execution_count": 4,
   "id": "f03ec59f-e026-4194-a783-e1ad63eb5dba",
   "metadata": {},
   "outputs": [
    {
     "data": {
      "text/plain": [
       "Atoka ID                   object\n",
       "Codice ATECO 2007          object\n",
       "Descrizione ATECO 2007     object\n",
       "HTML                       object\n",
       "costi_produzione          float64\n",
       "costi_servizi             float64\n",
       "dtype: object"
      ]
     },
     "execution_count": 4,
     "metadata": {},
     "output_type": "execute_result"
    }
   ],
   "source": [
    "input_df.dtypes"
   ]
  },
  {
   "cell_type": "code",
   "execution_count": 5,
   "id": "1d86a11d-559a-4da7-bcf2-3dc581c9c785",
   "metadata": {},
   "outputs": [
    {
     "name": "stdout",
     "output_type": "stream",
     "text": [
      "<class 'pandas.core.frame.DataFrame'>\n",
      "RangeIndex: 896 entries, 0 to 895\n",
      "Data columns (total 6 columns):\n",
      " #   Column                  Non-Null Count  Dtype  \n",
      "---  ------                  --------------  -----  \n",
      " 0   Atoka ID                896 non-null    object \n",
      " 1   Codice ATECO 2007       896 non-null    object \n",
      " 2   Descrizione ATECO 2007  896 non-null    object \n",
      " 3   HTML                    896 non-null    object \n",
      " 4   costi_produzione        896 non-null    float64\n",
      " 5   costi_servizi           896 non-null    float64\n",
      "dtypes: float64(2), object(4)\n",
      "memory usage: 42.1+ KB\n"
     ]
    }
   ],
   "source": [
    "input_df.info()"
   ]
  },
  {
   "cell_type": "code",
   "execution_count": 6,
   "id": "3a95dfd1-e509-4291-86cd-7a2a213ae976",
   "metadata": {},
   "outputs": [
    {
     "data": {
      "text/plain": [
       "Atoka ID                  0\n",
       "Codice ATECO 2007         0\n",
       "Descrizione ATECO 2007    0\n",
       "HTML                      0\n",
       "costi_produzione          0\n",
       "costi_servizi             0\n",
       "dtype: int64"
      ]
     },
     "execution_count": 6,
     "metadata": {},
     "output_type": "execute_result"
    }
   ],
   "source": [
    "input_df.isna().sum()"
   ]
  },
  {
   "cell_type": "code",
   "execution_count": 7,
   "id": "485e08fa-215c-410d-8317-3b9c5de62e5e",
   "metadata": {},
   "outputs": [
    {
     "name": "stdout",
     "output_type": "stream",
     "text": [
      "The first column that should contain only items names, but it contains numbers\n"
     ]
    },
    {
     "ename": "IndexError",
     "evalue": "index 0 is out of bounds for axis 0 with size 0",
     "output_type": "error",
     "traceback": [
      "\u001b[0;31m---------------------------------------------------------------------------\u001b[0m",
      "\u001b[0;31mIndexError\u001b[0m                                Traceback (most recent call last)",
      "Cell \u001b[0;32mIn[7], line 7\u001b[0m\n\u001b[1;32m      5\u001b[0m \u001b[38;5;28;01mfor\u001b[39;00m (company_id, company), tables \u001b[38;5;129;01min\u001b[39;00m \u001b[38;5;28mzip\u001b[39m(input_df\u001b[38;5;241m.\u001b[39miterrows(), tables_df):\n\u001b[1;32m      6\u001b[0m     cleaned_tables \u001b[38;5;241m=\u001b[39m [clean_table(t) \u001b[38;5;28;01mfor\u001b[39;00m t \u001b[38;5;129;01min\u001b[39;00m tables]\n\u001b[0;32m----> 7\u001b[0m     expenses_items\u001b[38;5;241m.\u001b[39mappend(\u001b[43mextract_expense_items\u001b[49m\u001b[43m(\u001b[49m\u001b[43mcleaned_tables\u001b[49m\u001b[43m,\u001b[49m\u001b[43m \u001b[49m\u001b[43mcompany\u001b[49m\u001b[43m)\u001b[49m)\n\u001b[1;32m      9\u001b[0m companies_and_expenses \u001b[38;5;241m=\u001b[39m match_items_different_companies(input_df, expenses_items)\n",
      "File \u001b[0;32m~/PycharmProjects/esercizio-note-integrative/utils.py:103\u001b[0m, in \u001b[0;36mextract_expense_items\u001b[0;34m(expenses_tables, company)\u001b[0m\n\u001b[1;32m    101\u001b[0m total_condition \u001b[38;5;241m=\u001b[39m table\u001b[38;5;241m.\u001b[39miloc[:, \u001b[38;5;241m0\u001b[39m]\u001b[38;5;241m.\u001b[39mastype(\u001b[38;5;28mstr\u001b[39m)\u001b[38;5;241m.\u001b[39mstr\u001b[38;5;241m.\u001b[39mcontains(\u001b[38;5;124mr\u001b[39m\u001b[38;5;124m\"\u001b[39m\u001b[38;5;124mtotale|totali|tot\u001b[39m\u001b[38;5;124m\\\u001b[39m\u001b[38;5;124m.$|tot$|^0$\u001b[39m\u001b[38;5;124m\"\u001b[39m, case\u001b[38;5;241m=\u001b[39m\u001b[38;5;28;01mFalse\u001b[39;00m)\n\u001b[1;32m    102\u001b[0m total_row \u001b[38;5;241m=\u001b[39m table[total_condition]\n\u001b[0;32m--> 103\u001b[0m total_value \u001b[38;5;241m=\u001b[39m \u001b[38;5;28mfloat\u001b[39m(\u001b[43mtotal_row\u001b[49m\u001b[38;5;241;43m.\u001b[39;49m\u001b[43mfilter\u001b[49m\u001b[43m(\u001b[49m\u001b[43mregex\u001b[49m\u001b[38;5;241;43m=\u001b[39;49m\u001b[43m(\u001b[49m\u001b[43mdesired_column_regex\u001b[49m\u001b[43m)\u001b[49m\u001b[43m)\u001b[49m\u001b[38;5;241;43m.\u001b[39;49m\u001b[43miloc\u001b[49m\u001b[43m[\u001b[49m\u001b[38;5;241;43m0\u001b[39;49m\u001b[43m,\u001b[49m\u001b[43m \u001b[49m\u001b[38;5;241;43m0\u001b[39;49m\u001b[43m]\u001b[49m)\n\u001b[1;32m    105\u001b[0m table_wo_total \u001b[38;5;241m=\u001b[39m table[total_condition \u001b[38;5;241m==\u001b[39m \u001b[38;5;28;01mFalse\u001b[39;00m]\n\u001b[1;32m    106\u001b[0m \u001b[38;5;66;03m# take the value in the column with \"corrente/2018\" in the column title\u001b[39;00m\n",
      "File \u001b[0;32m~/.cache/pypoetry/virtualenvs/esercizio-note-integrative-jsSQswhM-py3.9/lib/python3.9/site-packages/pandas/core/indexing.py:1066\u001b[0m, in \u001b[0;36m_LocationIndexer.__getitem__\u001b[0;34m(self, key)\u001b[0m\n\u001b[1;32m   1064\u001b[0m     key \u001b[38;5;241m=\u001b[39m \u001b[38;5;28mtuple\u001b[39m(com\u001b[38;5;241m.\u001b[39mapply_if_callable(x, \u001b[38;5;28mself\u001b[39m\u001b[38;5;241m.\u001b[39mobj) \u001b[38;5;28;01mfor\u001b[39;00m x \u001b[38;5;129;01min\u001b[39;00m key)\n\u001b[1;32m   1065\u001b[0m     \u001b[38;5;28;01mif\u001b[39;00m \u001b[38;5;28mself\u001b[39m\u001b[38;5;241m.\u001b[39m_is_scalar_access(key):\n\u001b[0;32m-> 1066\u001b[0m         \u001b[38;5;28;01mreturn\u001b[39;00m \u001b[38;5;28;43mself\u001b[39;49m\u001b[38;5;241;43m.\u001b[39;49m\u001b[43mobj\u001b[49m\u001b[38;5;241;43m.\u001b[39;49m\u001b[43m_get_value\u001b[49m\u001b[43m(\u001b[49m\u001b[38;5;241;43m*\u001b[39;49m\u001b[43mkey\u001b[49m\u001b[43m,\u001b[49m\u001b[43m \u001b[49m\u001b[43mtakeable\u001b[49m\u001b[38;5;241;43m=\u001b[39;49m\u001b[38;5;28;43mself\u001b[39;49m\u001b[38;5;241;43m.\u001b[39;49m\u001b[43m_takeable\u001b[49m\u001b[43m)\u001b[49m\n\u001b[1;32m   1067\u001b[0m     \u001b[38;5;28;01mreturn\u001b[39;00m \u001b[38;5;28mself\u001b[39m\u001b[38;5;241m.\u001b[39m_getitem_tuple(key)\n\u001b[1;32m   1068\u001b[0m \u001b[38;5;28;01melse\u001b[39;00m:\n\u001b[1;32m   1069\u001b[0m     \u001b[38;5;66;03m# we by definition only have the 0th axis\u001b[39;00m\n",
      "File \u001b[0;32m~/.cache/pypoetry/virtualenvs/esercizio-note-integrative-jsSQswhM-py3.9/lib/python3.9/site-packages/pandas/core/frame.py:3912\u001b[0m, in \u001b[0;36mDataFrame._get_value\u001b[0;34m(self, index, col, takeable)\u001b[0m\n\u001b[1;32m   3893\u001b[0m \u001b[38;5;124;03m\"\"\"\u001b[39;00m\n\u001b[1;32m   3894\u001b[0m \u001b[38;5;124;03mQuickly retrieve single value at passed column and index.\u001b[39;00m\n\u001b[1;32m   3895\u001b[0m \n\u001b[0;32m   (...)\u001b[0m\n\u001b[1;32m   3909\u001b[0m \u001b[38;5;124;03m`self.columns._index_as_unique`; Caller is responsible for checking.\u001b[39;00m\n\u001b[1;32m   3910\u001b[0m \u001b[38;5;124;03m\"\"\"\u001b[39;00m\n\u001b[1;32m   3911\u001b[0m \u001b[38;5;28;01mif\u001b[39;00m takeable:\n\u001b[0;32m-> 3912\u001b[0m     series \u001b[38;5;241m=\u001b[39m \u001b[38;5;28;43mself\u001b[39;49m\u001b[38;5;241;43m.\u001b[39;49m\u001b[43m_ixs\u001b[49m\u001b[43m(\u001b[49m\u001b[43mcol\u001b[49m\u001b[43m,\u001b[49m\u001b[43m \u001b[49m\u001b[43maxis\u001b[49m\u001b[38;5;241;43m=\u001b[39;49m\u001b[38;5;241;43m1\u001b[39;49m\u001b[43m)\u001b[49m\n\u001b[1;32m   3913\u001b[0m     \u001b[38;5;28;01mreturn\u001b[39;00m series\u001b[38;5;241m.\u001b[39m_values[index]\n\u001b[1;32m   3915\u001b[0m series \u001b[38;5;241m=\u001b[39m \u001b[38;5;28mself\u001b[39m\u001b[38;5;241m.\u001b[39m_get_item_cache(col)\n",
      "File \u001b[0;32m~/.cache/pypoetry/virtualenvs/esercizio-note-integrative-jsSQswhM-py3.9/lib/python3.9/site-packages/pandas/core/frame.py:3726\u001b[0m, in \u001b[0;36mDataFrame._ixs\u001b[0;34m(self, i, axis)\u001b[0m\n\u001b[1;32m   3722\u001b[0m     \u001b[38;5;28;01mreturn\u001b[39;00m result\n\u001b[1;32m   3724\u001b[0m \u001b[38;5;66;03m# icol\u001b[39;00m\n\u001b[1;32m   3725\u001b[0m \u001b[38;5;28;01melse\u001b[39;00m:\n\u001b[0;32m-> 3726\u001b[0m     label \u001b[38;5;241m=\u001b[39m \u001b[38;5;28;43mself\u001b[39;49m\u001b[38;5;241;43m.\u001b[39;49m\u001b[43mcolumns\u001b[49m\u001b[43m[\u001b[49m\u001b[43mi\u001b[49m\u001b[43m]\u001b[49m\n\u001b[1;32m   3728\u001b[0m     col_mgr \u001b[38;5;241m=\u001b[39m \u001b[38;5;28mself\u001b[39m\u001b[38;5;241m.\u001b[39m_mgr\u001b[38;5;241m.\u001b[39miget(i)\n\u001b[1;32m   3729\u001b[0m     result \u001b[38;5;241m=\u001b[39m \u001b[38;5;28mself\u001b[39m\u001b[38;5;241m.\u001b[39m_box_col_values(col_mgr, i)\n",
      "File \u001b[0;32m~/.cache/pypoetry/virtualenvs/esercizio-note-integrative-jsSQswhM-py3.9/lib/python3.9/site-packages/pandas/core/indexes/base.py:5363\u001b[0m, in \u001b[0;36mIndex.__getitem__\u001b[0;34m(self, key)\u001b[0m\n\u001b[1;32m   5360\u001b[0m \u001b[38;5;28;01mif\u001b[39;00m is_integer(key) \u001b[38;5;129;01mor\u001b[39;00m is_float(key):\n\u001b[1;32m   5361\u001b[0m     \u001b[38;5;66;03m# GH#44051 exclude bool, which would return a 2d ndarray\u001b[39;00m\n\u001b[1;32m   5362\u001b[0m     key \u001b[38;5;241m=\u001b[39m com\u001b[38;5;241m.\u001b[39mcast_scalar_indexer(key, warn_float\u001b[38;5;241m=\u001b[39m\u001b[38;5;28;01mTrue\u001b[39;00m)\n\u001b[0;32m-> 5363\u001b[0m     \u001b[38;5;28;01mreturn\u001b[39;00m \u001b[43mgetitem\u001b[49m\u001b[43m(\u001b[49m\u001b[43mkey\u001b[49m\u001b[43m)\u001b[49m\n\u001b[1;32m   5365\u001b[0m \u001b[38;5;28;01mif\u001b[39;00m \u001b[38;5;28misinstance\u001b[39m(key, \u001b[38;5;28mslice\u001b[39m):\n\u001b[1;32m   5366\u001b[0m     \u001b[38;5;66;03m# This case is separated from the conditional above to avoid\u001b[39;00m\n\u001b[1;32m   5367\u001b[0m     \u001b[38;5;66;03m# pessimization com.is_bool_indexer and ndim checks.\u001b[39;00m\n\u001b[1;32m   5368\u001b[0m     result \u001b[38;5;241m=\u001b[39m getitem(key)\n",
      "\u001b[0;31mIndexError\u001b[0m: index 0 is out of bounds for axis 0 with size 0"
     ]
    }
   ],
   "source": [
    "tables_df = input_df['HTML'].apply(pd.read_html, decimal=\",\", thousands='.')\n",
    "\n",
    "expenses_items = []\n",
    "\n",
    "for (company_id, company), tables in zip(input_df.iterrows(), tables_df):\n",
    "    cleaned_tables = [clean_table(t) for t in tables]\n",
    "    expenses_items.append(extract_expense_items(cleaned_tables, company))\n",
    "\n",
    "companies_and_expenses = match_items_different_companies(input_df, expenses_items)"
   ]
  }
 ],
 "metadata": {
  "kernelspec": {
   "display_name": "Python 3 (ipykernel)",
   "language": "python",
   "name": "python3"
  },
  "language_info": {
   "codemirror_mode": {
    "name": "ipython",
    "version": 3
   },
   "file_extension": ".py",
   "mimetype": "text/x-python",
   "name": "python",
   "nbconvert_exporter": "python",
   "pygments_lexer": "ipython3",
   "version": "3.9.14"
  }
 },
 "nbformat": 4,
 "nbformat_minor": 5
}
